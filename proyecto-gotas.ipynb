{
 "cells": [
  {
   "cell_type": "markdown",
   "metadata": {},
   "source": [
    "# Proyecto de visualización de la distribución de gotas en una malla"
   ]
  },
  {
   "cell_type": "markdown",
   "metadata": {},
   "source": [
    "## 1 - Generación de los datos:"
   ]
  },
  {
   "cell_type": "code",
   "execution_count": 21,
   "metadata": {},
   "outputs": [],
   "source": [
    "import numpy as np\n",
    "import csv\n",
    "import configparser\n",
    "\n",
    "# este script genera los datos y los guarda en un numpy array\n",
    "\n",
    "class experimento():\n",
    "    def __init__(self, nGotas = 10, nLotes = 100, saturacion = 15, *args):\n",
    "        self.nGotas = nGotas\n",
    "        self.nLotes = nLotes\n",
    "        self.saturacion = saturacion\n",
    "        self.grilla = np.array([args])\n",
    "        self.datos = np.array([args,nLotes])\n",
    "    \n",
    "    def WriteConfigFile(self, nombreArchivo):\n",
    "        \"\"\"\n",
    "        Esta función escribe el archivo de configuración asociado a cada corrida de la simulación\n",
    "        \"\"\"\n",
    "        config = ConfigParser.RawConfigParser()\n",
    "        nombreSeccion = 'Especificaciones de la corrida'\n",
    "        config.add_section(nombreSeccion)\n",
    "        config.set(nombreSeccion, 'Número de gotas', '{}'.format(self.nGotas))\n",
    "        config.set(nombreSeccion, 'Número de lotes', '{}'.format(self.nLotes))\n",
    "\n",
    "        # Writing our configuration file to 'example.cfg'\n",
    "        with open(fileName, 'w') as configfile:\n",
    "            config.write(configfile)\n",
    "    \n",
    "    def Escribir_datos(self):\n",
    "        np.savetxt('test.out', self.datos, delimiter=',')\n",
    "    \n",
    "    def Correr(self):\n",
    "        for iLot in range(nLotes):\n",
    "            # para el número indicado de lotes\n",
    "            for iGot in range(nGotas):\n",
    "                sefl.grilla[np.random.randint(0,len(self.grilla))] =+1\n",
    "        "
   ]
  },
  {
   "cell_type": "markdown",
   "metadata": {},
   "source": [
    "## 2 - Visualización de la línea de tiempo"
   ]
  },
  {
   "cell_type": "code",
   "execution_count": 19,
   "metadata": {},
   "outputs": [],
   "source": [
    "import matplotlib\n",
    "# matplotlib.use('Agg')          # para escoger la forma de visualizar los gráficos\n",
    "import matplotlib.pyplot as plt\n",
    "import csv"
   ]
  },
  {
   "cell_type": "markdown",
   "metadata": {},
   "source": [
    "## 3 - Gráficos de los datos generados"
   ]
  },
  {
   "cell_type": "code",
   "execution_count": 20,
   "metadata": {},
   "outputs": [],
   "source": [
    "import matplotlib\n",
    "# matplotlib.use('Agg')          # para escoger la forma de visualizar los gráficos\n",
    "import matplotlib.pyplot as plt\n",
    "import csv"
   ]
  },
  {
   "cell_type": "code",
   "execution_count": null,
   "metadata": {},
   "outputs": [],
   "source": []
  }
 ],
 "metadata": {
  "kernelspec": {
   "display_name": "Python 3",
   "language": "python",
   "name": "python3"
  },
  "language_info": {
   "codemirror_mode": {
    "name": "ipython",
    "version": 3
   },
   "file_extension": ".py",
   "mimetype": "text/x-python",
   "name": "python",
   "nbconvert_exporter": "python",
   "pygments_lexer": "ipython3",
   "version": "3.6.5"
  }
 },
 "nbformat": 4,
 "nbformat_minor": 2
}
